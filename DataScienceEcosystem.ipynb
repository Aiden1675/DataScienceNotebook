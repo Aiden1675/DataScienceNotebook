{
 "cells": [
  {
   "cell_type": "code",
   "execution_count": null,
   "id": "32d4eb72-86a7-4f2b-9e22-bb29bc9f1fef",
   "metadata": {},
   "outputs": [],
   "source": []
  },
  {
   "cell_type": "markdown",
   "id": "4d7a17dc-73fe-4fd2-af3c-6333fbf97745",
   "metadata": {},
   "source": [
    "Data Science Tools and Ecosystem"
   ]
  },
  {
   "cell_type": "markdown",
   "id": "847f0cba-5336-491f-8483-70994bc7686d",
   "metadata": {},
   "source": [
    "In this notebook, Data Science Tools and Ecosystem are summarized"
   ]
  },
  {
   "cell_type": "markdown",
   "id": "2ef86686-8722-4526-9912-7741f1a08e77",
   "metadata": {},
   "source": [
    "Some of the popular languages that Data Scientists use are:\n",
    "1. Python\n",
    "2. SQL\n",
    "3. Scala"
   ]
  },
  {
   "cell_type": "markdown",
   "id": "4688be6a-31c9-4a7e-b0f3-ccaa6e270a77",
   "metadata": {},
   "source": [
    "Some of the Commonly used Libraries used by Data Scientists include:\n",
    "1. NumPy\n",
    "2. SciPy\n",
    "3. TensorFlow"
   ]
  },
  {
   "cell_type": "markdown",
   "id": "1d3c84ec-a6d2-467a-a812-be6bba960697",
   "metadata": {},
   "source": [
    "| Data Science Tools |\n",
    "|--------------------|\n",
    "| Jupyter Notebook   |\n",
    "| RStudio            |\n",
    "| PyCharm            |\n"
   ]
  },
  {
   "cell_type": "markdown",
   "id": "50e95b2e-84d9-4fed-aa21-a8a2c6c8b692",
   "metadata": {},
   "source": [
    "### Below are a few examples of evaluating arithmetic expressions in Python.\n"
   ]
  },
  {
   "cell_type": "code",
   "execution_count": 1,
   "id": "09409bd7-03c8-4183-8f46-74188842c183",
   "metadata": {
    "tags": []
   },
   "outputs": [
    {
     "data": {
      "text/plain": [
       "17"
      ]
     },
     "execution_count": 1,
     "metadata": {},
     "output_type": "execute_result"
    }
   ],
   "source": [
    "# This is a simple arithmetic expression to multiply then add integers.\n",
    "(3*4)+5\n"
   ]
  },
  {
   "cell_type": "code",
   "execution_count": 2,
   "id": "15f0b142-c8fd-4053-9a54-94e96c4abf7f",
   "metadata": {
    "tags": []
   },
   "outputs": [
    {
     "data": {
      "text/plain": [
       "3.3333333333333335"
      ]
     },
     "execution_count": 2,
     "metadata": {},
     "output_type": "execute_result"
    }
   ],
   "source": [
    "# This will convert 200 minutes to hours by dividing by 60\n",
    "200/60"
   ]
  },
  {
   "cell_type": "markdown",
   "id": "78f0da7b-fd93-417e-aff8-6046addf7da4",
   "metadata": {},
   "source": [
    "**Objectives.**\n",
    "\n",
    "- List popular languages for Data Scientists.\n",
    "- Identify commonly used libraries in data science.\n",
    "- Introduce data science tools.\n",
    "- Perform arithmetic operations in Python.\n",
    "- Convert units of measurement in Python."
   ]
  },
  {
   "cell_type": "markdown",
   "id": "d50ca184-0fdd-44e3-be7b-81a020e3e66c",
   "metadata": {},
   "source": [
    "## Author\n",
    "\n",
    "Aiden "
   ]
  },
  {
   "cell_type": "code",
   "execution_count": null,
   "id": "8390562c-a6b1-4b5c-bce1-799a9c24b1b2",
   "metadata": {},
   "outputs": [],
   "source": []
  }
 ],
 "metadata": {
  "kernelspec": {
   "display_name": "Python",
   "language": "python",
   "name": "conda-env-python-py"
  },
  "language_info": {
   "codemirror_mode": {
    "name": "ipython",
    "version": 3
   },
   "file_extension": ".py",
   "mimetype": "text/x-python",
   "name": "python",
   "nbconvert_exporter": "python",
   "pygments_lexer": "ipython3",
   "version": "3.7.12"
  }
 },
 "nbformat": 4,
 "nbformat_minor": 5
}
